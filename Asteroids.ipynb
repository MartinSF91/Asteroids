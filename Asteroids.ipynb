{
 "cells": [
  {
   "cell_type": "markdown",
   "metadata": {},
   "source": [
    "# Projekt Open Asteroid Dataset"
   ]
  },
  {
   "cell_type": "markdown",
   "metadata": {},
   "source": [
    "In diesem Projekt soll auf Grundlage eines Datensatzes von Asteroiden ein Modell erstellt werden, mit dem der `diameter` von Himmelskörpern auf Grundlage bestimmter Features vorhergesagt werden kann. Es handelt sich also um ein Regressions-Problem."
   ]
  },
  {
   "cell_type": "markdown",
   "metadata": {},
   "source": [
    "## 1. Einlesen der Datei und Exploration"
   ]
  },
  {
   "cell_type": "markdown",
   "metadata": {},
   "source": [
    "### 1.1. Importe"
   ]
  },
  {
   "cell_type": "code",
   "execution_count": 235,
   "metadata": {},
   "outputs": [],
   "source": [
    "import pandas as pd\n",
    "import numpy as np\n",
    "import matplotlib.pyplot as plt\n",
    "import seaborn as sns\n",
    "from sklearn.model_selection import train_test_split\n",
    "from sklearn.compose import make_column_selector\n",
    "from sklearn.impute import SimpleImputer\n",
    "from sklearn.preprocessing import OrdinalEncoder, OneHotEncoder\n",
    "from sklearn.preprocessing import MinMaxScaler\n",
    "from sklearn.compose import ColumnTransformer\n",
    "from sklearn.pipeline import make_pipeline\n",
    "from sklearn.model_selection import cross_val_score"
   ]
  },
  {
   "cell_type": "markdown",
   "metadata": {},
   "source": [
    "### 1.2. Daten einlesen\n",
    "\n",
    "In diesem Abschnitt wird die `Asteroid_Updated.csv` Datei eingelesen, da diese über mehr Features verfügt als der `Asteroid.csv` Datensatz. Der Datensatz enthält ca. 840k Zeilen und 31 Features."
   ]
  },
  {
   "cell_type": "code",
   "execution_count": 236,
   "metadata": {},
   "outputs": [],
   "source": [
    "data = pd.read_csv(\"Asteroid_Updated.csv\", low_memory=False, delimiter=\",\")"
   ]
  },
  {
   "cell_type": "markdown",
   "metadata": {},
   "source": [
    "### 1.3. Daten sichten und bearbeiten\n",
    "\n",
    "Nachfolgend wird sich ein Überblick über die verschiedenen Features verschafft. Zudem soll entschieden werden, welche Spalten aufgrund fehlender Einträge für das Vorgehen irrelevant sind."
   ]
  },
  {
   "cell_type": "code",
   "execution_count": 237,
   "metadata": {},
   "outputs": [
    {
     "data": {
      "text/html": [
       "<div>\n",
       "<style scoped>\n",
       "    .dataframe tbody tr th:only-of-type {\n",
       "        vertical-align: middle;\n",
       "    }\n",
       "\n",
       "    .dataframe tbody tr th {\n",
       "        vertical-align: top;\n",
       "    }\n",
       "\n",
       "    .dataframe thead th {\n",
       "        text-align: right;\n",
       "    }\n",
       "</style>\n",
       "<table border=\"1\" class=\"dataframe\">\n",
       "  <thead>\n",
       "    <tr style=\"text-align: right;\">\n",
       "      <th></th>\n",
       "      <th>name</th>\n",
       "      <th>a</th>\n",
       "      <th>e</th>\n",
       "      <th>i</th>\n",
       "      <th>om</th>\n",
       "      <th>w</th>\n",
       "      <th>q</th>\n",
       "      <th>ad</th>\n",
       "      <th>per_y</th>\n",
       "      <th>data_arc</th>\n",
       "      <th>...</th>\n",
       "      <th>UB</th>\n",
       "      <th>IR</th>\n",
       "      <th>spec_B</th>\n",
       "      <th>spec_T</th>\n",
       "      <th>G</th>\n",
       "      <th>moid</th>\n",
       "      <th>class</th>\n",
       "      <th>n</th>\n",
       "      <th>per</th>\n",
       "      <th>ma</th>\n",
       "    </tr>\n",
       "  </thead>\n",
       "  <tbody>\n",
       "    <tr>\n",
       "      <th>0</th>\n",
       "      <td>Ceres</td>\n",
       "      <td>2.769165</td>\n",
       "      <td>0.076009</td>\n",
       "      <td>10.594067</td>\n",
       "      <td>80.305532</td>\n",
       "      <td>73.597694</td>\n",
       "      <td>2.558684</td>\n",
       "      <td>2.979647</td>\n",
       "      <td>4.608202</td>\n",
       "      <td>8822.0</td>\n",
       "      <td>...</td>\n",
       "      <td>0.426</td>\n",
       "      <td>NaN</td>\n",
       "      <td>C</td>\n",
       "      <td>G</td>\n",
       "      <td>0.12</td>\n",
       "      <td>1.59478</td>\n",
       "      <td>MBA</td>\n",
       "      <td>0.213885</td>\n",
       "      <td>1683.145708</td>\n",
       "      <td>77.372096</td>\n",
       "    </tr>\n",
       "    <tr>\n",
       "      <th>1</th>\n",
       "      <td>Pallas</td>\n",
       "      <td>2.772466</td>\n",
       "      <td>0.230337</td>\n",
       "      <td>34.836234</td>\n",
       "      <td>173.080063</td>\n",
       "      <td>310.048857</td>\n",
       "      <td>2.133865</td>\n",
       "      <td>3.411067</td>\n",
       "      <td>4.616444</td>\n",
       "      <td>72318.0</td>\n",
       "      <td>...</td>\n",
       "      <td>0.284</td>\n",
       "      <td>NaN</td>\n",
       "      <td>B</td>\n",
       "      <td>B</td>\n",
       "      <td>0.11</td>\n",
       "      <td>1.23324</td>\n",
       "      <td>MBA</td>\n",
       "      <td>0.213503</td>\n",
       "      <td>1686.155999</td>\n",
       "      <td>59.699133</td>\n",
       "    </tr>\n",
       "    <tr>\n",
       "      <th>2</th>\n",
       "      <td>Juno</td>\n",
       "      <td>2.669150</td>\n",
       "      <td>0.256942</td>\n",
       "      <td>12.988919</td>\n",
       "      <td>169.852760</td>\n",
       "      <td>248.138626</td>\n",
       "      <td>1.983332</td>\n",
       "      <td>3.354967</td>\n",
       "      <td>4.360814</td>\n",
       "      <td>72684.0</td>\n",
       "      <td>...</td>\n",
       "      <td>0.433</td>\n",
       "      <td>NaN</td>\n",
       "      <td>Sk</td>\n",
       "      <td>S</td>\n",
       "      <td>0.32</td>\n",
       "      <td>1.03454</td>\n",
       "      <td>MBA</td>\n",
       "      <td>0.226019</td>\n",
       "      <td>1592.787285</td>\n",
       "      <td>34.925016</td>\n",
       "    </tr>\n",
       "    <tr>\n",
       "      <th>3</th>\n",
       "      <td>Vesta</td>\n",
       "      <td>2.361418</td>\n",
       "      <td>0.088721</td>\n",
       "      <td>7.141771</td>\n",
       "      <td>103.810804</td>\n",
       "      <td>150.728541</td>\n",
       "      <td>2.151909</td>\n",
       "      <td>2.570926</td>\n",
       "      <td>3.628837</td>\n",
       "      <td>24288.0</td>\n",
       "      <td>...</td>\n",
       "      <td>0.492</td>\n",
       "      <td>NaN</td>\n",
       "      <td>V</td>\n",
       "      <td>V</td>\n",
       "      <td>0.32</td>\n",
       "      <td>1.13948</td>\n",
       "      <td>MBA</td>\n",
       "      <td>0.271609</td>\n",
       "      <td>1325.432765</td>\n",
       "      <td>95.861936</td>\n",
       "    </tr>\n",
       "    <tr>\n",
       "      <th>4</th>\n",
       "      <td>Astraea</td>\n",
       "      <td>2.574249</td>\n",
       "      <td>0.191095</td>\n",
       "      <td>5.366988</td>\n",
       "      <td>141.576605</td>\n",
       "      <td>358.687607</td>\n",
       "      <td>2.082324</td>\n",
       "      <td>3.066174</td>\n",
       "      <td>4.130323</td>\n",
       "      <td>63507.0</td>\n",
       "      <td>...</td>\n",
       "      <td>0.411</td>\n",
       "      <td>NaN</td>\n",
       "      <td>S</td>\n",
       "      <td>S</td>\n",
       "      <td>NaN</td>\n",
       "      <td>1.09589</td>\n",
       "      <td>MBA</td>\n",
       "      <td>0.238632</td>\n",
       "      <td>1508.600458</td>\n",
       "      <td>282.366289</td>\n",
       "    </tr>\n",
       "  </tbody>\n",
       "</table>\n",
       "<p>5 rows × 31 columns</p>\n",
       "</div>"
      ],
      "text/plain": [
       "      name         a         e          i          om           w         q  \\\n",
       "0    Ceres  2.769165  0.076009  10.594067   80.305532   73.597694  2.558684   \n",
       "1   Pallas  2.772466  0.230337  34.836234  173.080063  310.048857  2.133865   \n",
       "2     Juno  2.669150  0.256942  12.988919  169.852760  248.138626  1.983332   \n",
       "3    Vesta  2.361418  0.088721   7.141771  103.810804  150.728541  2.151909   \n",
       "4  Astraea  2.574249  0.191095   5.366988  141.576605  358.687607  2.082324   \n",
       "\n",
       "         ad     per_y  data_arc  ...     UB  IR  spec_B spec_T     G     moid  \\\n",
       "0  2.979647  4.608202    8822.0  ...  0.426 NaN       C      G  0.12  1.59478   \n",
       "1  3.411067  4.616444   72318.0  ...  0.284 NaN       B      B  0.11  1.23324   \n",
       "2  3.354967  4.360814   72684.0  ...  0.433 NaN      Sk      S  0.32  1.03454   \n",
       "3  2.570926  3.628837   24288.0  ...  0.492 NaN       V      V  0.32  1.13948   \n",
       "4  3.066174  4.130323   63507.0  ...  0.411 NaN       S      S   NaN  1.09589   \n",
       "\n",
       "  class         n          per          ma  \n",
       "0   MBA  0.213885  1683.145708   77.372096  \n",
       "1   MBA  0.213503  1686.155999   59.699133  \n",
       "2   MBA  0.226019  1592.787285   34.925016  \n",
       "3   MBA  0.271609  1325.432765   95.861936  \n",
       "4   MBA  0.238632  1508.600458  282.366289  \n",
       "\n",
       "[5 rows x 31 columns]"
      ]
     },
     "execution_count": 237,
     "metadata": {},
     "output_type": "execute_result"
    }
   ],
   "source": [
    "data.head()"
   ]
  },
  {
   "cell_type": "code",
   "execution_count": 238,
   "metadata": {},
   "outputs": [
    {
     "name": "stdout",
     "output_type": "stream",
     "text": [
      "<class 'pandas.core.frame.DataFrame'>\n",
      "RangeIndex: 839714 entries, 0 to 839713\n",
      "Data columns (total 31 columns):\n",
      " #   Column          Non-Null Count   Dtype  \n",
      "---  ------          --------------   -----  \n",
      " 0   name            21967 non-null   object \n",
      " 1   a               839712 non-null  float64\n",
      " 2   e               839714 non-null  float64\n",
      " 3   i               839714 non-null  float64\n",
      " 4   om              839714 non-null  float64\n",
      " 5   w               839714 non-null  float64\n",
      " 6   q               839714 non-null  float64\n",
      " 7   ad              839708 non-null  float64\n",
      " 8   per_y           839713 non-null  float64\n",
      " 9   data_arc        824240 non-null  float64\n",
      " 10  condition_code  838847 non-null  object \n",
      " 11  n_obs_used      839714 non-null  int64  \n",
      " 12  H               837025 non-null  float64\n",
      " 13  neo             839708 non-null  object \n",
      " 14  pha             823272 non-null  object \n",
      " 15  diameter        137636 non-null  object \n",
      " 16  extent          18 non-null      object \n",
      " 17  albedo          136409 non-null  float64\n",
      " 18  rot_per         18796 non-null   float64\n",
      " 19  GM              14 non-null      float64\n",
      " 20  BV              1021 non-null    float64\n",
      " 21  UB              979 non-null     float64\n",
      " 22  IR              1 non-null       float64\n",
      " 23  spec_B          1666 non-null    object \n",
      " 24  spec_T          980 non-null     object \n",
      " 25  G               119 non-null     float64\n",
      " 26  moid            823272 non-null  float64\n",
      " 27  class           839714 non-null  object \n",
      " 28  n               839712 non-null  float64\n",
      " 29  per             839708 non-null  float64\n",
      " 30  ma              839706 non-null  float64\n",
      "dtypes: float64(21), int64(1), object(9)\n",
      "memory usage: 198.6+ MB\n"
     ]
    }
   ],
   "source": [
    "data.info()"
   ]
  },
  {
   "cell_type": "markdown",
   "metadata": {},
   "source": [
    "#### 1.3.1. Features\n",
    "\n",
    "` 1.\tname\n",
    "2.\ta: semi-major axis(au)\n",
    "3.\te: eccentricity\n",
    "4.\tG: Magnitude slope parameter \n",
    "5.\ti: Inclination with respect to x-y ecliptic plane (degree)\n",
    "6.\tom: Longitude oft he ascending node\n",
    "7.\tw: argument of perihelion\n",
    "8.\tq: perihelion distance(au)\n",
    "9.  ad: aphelion distance(au)\n",
    "10.\tper_y: Orbital periode\n",
    "11.\tdata_arc: data_arc-span(d)\n",
    "12.\tcondition_code: Orbit condition code\n",
    "13.\tn_obs_used: number of observations used\n",
    "14.\tH: Absolute Magnitude parameter\n",
    "15.\tdiameter: Diameter of asteroid(km)\n",
    "16.\textent: Object bi/tri axial ellipsoid dimensions(Km) \n",
    "17.\talbedo: geometric albedo\n",
    "18.\trot_per: Rotation Period(h) \n",
    "19.\tGM: Standard gravitational parameter, Product of mass and gravitational constant\n",
    "20.\tBV: Color index B-V magnitude difference \n",
    "21.\tUB: Color index U-B magnitude difference \n",
    "22.\tIR: Color Index I-R magnitude difference \n",
    "23.\tspec_B: Spectral taxonomic type (SMASSII) \n",
    "24.\tspec_T: Spectral taxonomic type(Tholen) \n",
    "25.\tneo: near Earth objekt  mismatched\n",
    "26.\tpha: Physically Hazardous Asteroid \n",
    "27.\tmoid: Earth Minimum orbit Intersection Distance (au)\n",
    "28. class: asteroid orbit class\n",
    "29. n: Mean motion(deg/d)\n",
    "30. per: orbital Period(d)\n",
    "31. ma: Mean anomaly(deg)\n",
    "`\n"
   ]
  },
  {
   "cell_type": "markdown",
   "metadata": {},
   "source": [
    "Wie aus obiger Sichtung hervorgeht, enthält der Datensatz viele Features mit fehlenden Daten. Darunter fällt ebenfalls die Zielvariable `diameter`. Zudem wurde deutlich, dass der Datentyp der Zielvariablen transformiert werden muss, da er Variablen sowohl `float` als auch `str` enthält.\n",
    "Anschließend werden die fehlenden Daten prozentual pro Feature berechnet und es wird bestimmt, welche Features somit für eine Weiterverarbeitung nicht geeignet sind."
   ]
  },
  {
   "cell_type": "code",
   "execution_count": 239,
   "metadata": {},
   "outputs": [
    {
     "data": {
      "text/html": [
       "<div>\n",
       "<style scoped>\n",
       "    .dataframe tbody tr th:only-of-type {\n",
       "        vertical-align: middle;\n",
       "    }\n",
       "\n",
       "    .dataframe tbody tr th {\n",
       "        vertical-align: top;\n",
       "    }\n",
       "\n",
       "    .dataframe thead th {\n",
       "        text-align: right;\n",
       "    }\n",
       "</style>\n",
       "<table border=\"1\" class=\"dataframe\">\n",
       "  <thead>\n",
       "    <tr style=\"text-align: right;\">\n",
       "      <th></th>\n",
       "      <th>count</th>\n",
       "      <th>percent</th>\n",
       "    </tr>\n",
       "  </thead>\n",
       "  <tbody>\n",
       "    <tr>\n",
       "      <th>IR</th>\n",
       "      <td>839713</td>\n",
       "      <td>0.999999</td>\n",
       "    </tr>\n",
       "    <tr>\n",
       "      <th>GM</th>\n",
       "      <td>839700</td>\n",
       "      <td>0.999983</td>\n",
       "    </tr>\n",
       "    <tr>\n",
       "      <th>extent</th>\n",
       "      <td>839696</td>\n",
       "      <td>0.999979</td>\n",
       "    </tr>\n",
       "    <tr>\n",
       "      <th>G</th>\n",
       "      <td>839595</td>\n",
       "      <td>0.999858</td>\n",
       "    </tr>\n",
       "    <tr>\n",
       "      <th>UB</th>\n",
       "      <td>838735</td>\n",
       "      <td>0.998834</td>\n",
       "    </tr>\n",
       "    <tr>\n",
       "      <th>spec_T</th>\n",
       "      <td>838734</td>\n",
       "      <td>0.998833</td>\n",
       "    </tr>\n",
       "    <tr>\n",
       "      <th>BV</th>\n",
       "      <td>838693</td>\n",
       "      <td>0.998784</td>\n",
       "    </tr>\n",
       "    <tr>\n",
       "      <th>spec_B</th>\n",
       "      <td>838048</td>\n",
       "      <td>0.998016</td>\n",
       "    </tr>\n",
       "    <tr>\n",
       "      <th>rot_per</th>\n",
       "      <td>820918</td>\n",
       "      <td>0.977616</td>\n",
       "    </tr>\n",
       "    <tr>\n",
       "      <th>name</th>\n",
       "      <td>817747</td>\n",
       "      <td>0.973840</td>\n",
       "    </tr>\n",
       "    <tr>\n",
       "      <th>albedo</th>\n",
       "      <td>703305</td>\n",
       "      <td>0.837553</td>\n",
       "    </tr>\n",
       "    <tr>\n",
       "      <th>diameter</th>\n",
       "      <td>702078</td>\n",
       "      <td>0.836092</td>\n",
       "    </tr>\n",
       "    <tr>\n",
       "      <th>moid</th>\n",
       "      <td>16442</td>\n",
       "      <td>0.019580</td>\n",
       "    </tr>\n",
       "    <tr>\n",
       "      <th>pha</th>\n",
       "      <td>16442</td>\n",
       "      <td>0.019580</td>\n",
       "    </tr>\n",
       "    <tr>\n",
       "      <th>data_arc</th>\n",
       "      <td>15474</td>\n",
       "      <td>0.018428</td>\n",
       "    </tr>\n",
       "    <tr>\n",
       "      <th>H</th>\n",
       "      <td>2689</td>\n",
       "      <td>0.003202</td>\n",
       "    </tr>\n",
       "    <tr>\n",
       "      <th>condition_code</th>\n",
       "      <td>867</td>\n",
       "      <td>0.001032</td>\n",
       "    </tr>\n",
       "    <tr>\n",
       "      <th>ma</th>\n",
       "      <td>8</td>\n",
       "      <td>0.000010</td>\n",
       "    </tr>\n",
       "    <tr>\n",
       "      <th>per</th>\n",
       "      <td>6</td>\n",
       "      <td>0.000007</td>\n",
       "    </tr>\n",
       "    <tr>\n",
       "      <th>neo</th>\n",
       "      <td>6</td>\n",
       "      <td>0.000007</td>\n",
       "    </tr>\n",
       "    <tr>\n",
       "      <th>ad</th>\n",
       "      <td>6</td>\n",
       "      <td>0.000007</td>\n",
       "    </tr>\n",
       "    <tr>\n",
       "      <th>n</th>\n",
       "      <td>2</td>\n",
       "      <td>0.000002</td>\n",
       "    </tr>\n",
       "    <tr>\n",
       "      <th>a</th>\n",
       "      <td>2</td>\n",
       "      <td>0.000002</td>\n",
       "    </tr>\n",
       "    <tr>\n",
       "      <th>per_y</th>\n",
       "      <td>1</td>\n",
       "      <td>0.000001</td>\n",
       "    </tr>\n",
       "    <tr>\n",
       "      <th>n_obs_used</th>\n",
       "      <td>0</td>\n",
       "      <td>0.000000</td>\n",
       "    </tr>\n",
       "    <tr>\n",
       "      <th>class</th>\n",
       "      <td>0</td>\n",
       "      <td>0.000000</td>\n",
       "    </tr>\n",
       "    <tr>\n",
       "      <th>q</th>\n",
       "      <td>0</td>\n",
       "      <td>0.000000</td>\n",
       "    </tr>\n",
       "    <tr>\n",
       "      <th>w</th>\n",
       "      <td>0</td>\n",
       "      <td>0.000000</td>\n",
       "    </tr>\n",
       "    <tr>\n",
       "      <th>om</th>\n",
       "      <td>0</td>\n",
       "      <td>0.000000</td>\n",
       "    </tr>\n",
       "    <tr>\n",
       "      <th>i</th>\n",
       "      <td>0</td>\n",
       "      <td>0.000000</td>\n",
       "    </tr>\n",
       "    <tr>\n",
       "      <th>e</th>\n",
       "      <td>0</td>\n",
       "      <td>0.000000</td>\n",
       "    </tr>\n",
       "  </tbody>\n",
       "</table>\n",
       "</div>"
      ],
      "text/plain": [
       "                 count   percent\n",
       "IR              839713  0.999999\n",
       "GM              839700  0.999983\n",
       "extent          839696  0.999979\n",
       "G               839595  0.999858\n",
       "UB              838735  0.998834\n",
       "spec_T          838734  0.998833\n",
       "BV              838693  0.998784\n",
       "spec_B          838048  0.998016\n",
       "rot_per         820918  0.977616\n",
       "name            817747  0.973840\n",
       "albedo          703305  0.837553\n",
       "diameter        702078  0.836092\n",
       "moid             16442  0.019580\n",
       "pha              16442  0.019580\n",
       "data_arc         15474  0.018428\n",
       "H                 2689  0.003202\n",
       "condition_code     867  0.001032\n",
       "ma                   8  0.000010\n",
       "per                  6  0.000007\n",
       "neo                  6  0.000007\n",
       "ad                   6  0.000007\n",
       "n                    2  0.000002\n",
       "a                    2  0.000002\n",
       "per_y                1  0.000001\n",
       "n_obs_used           0  0.000000\n",
       "class                0  0.000000\n",
       "q                    0  0.000000\n",
       "w                    0  0.000000\n",
       "om                   0  0.000000\n",
       "i                    0  0.000000\n",
       "e                    0  0.000000"
      ]
     },
     "execution_count": 239,
     "metadata": {},
     "output_type": "execute_result"
    }
   ],
   "source": [
    "count = data.isnull().sum().sort_values(ascending=False)\n",
    "perc = count / len(data)\n",
    "missing_data = pd.concat([count, perc], axis=1, keys=[\"count\", \"percent\"])\n",
    "missing_data"
   ]
  },
  {
   "cell_type": "markdown",
   "metadata": {},
   "source": [
    "#### 1.3.2. Unrelevante Daten löschen\n",
    "\n",
    "Aus der prozentualen Berechnung hat sich ergeben, dass es 11 Features gibt, bei denen mehr als 80% der Daten fehlen. Diese werden als irrelevant eingestuft und nachfolgend gelöscht. Darunter fallen folgende Features: `\"albedo\", \"extent\", \"rot_per\", \"GM\", \"BV\", \"UB\", \"IR\", \"spec_B\", \"spec_T\", \"G\", \"name\"`. Obwohl `diameter` ebenfalls nur zu knapp 17% vollständig ist, wird dieses Features dennoch behalten, da es für das Training eines Supervised Learning Modells unentbehrlich ist."
   ]
  },
  {
   "cell_type": "code",
   "execution_count": 240,
   "metadata": {},
   "outputs": [
    {
     "name": "stdout",
     "output_type": "stream",
     "text": [
      "<class 'pandas.core.frame.DataFrame'>\n",
      "RangeIndex: 839714 entries, 0 to 839713\n",
      "Data columns (total 20 columns):\n",
      " #   Column          Non-Null Count   Dtype  \n",
      "---  ------          --------------   -----  \n",
      " 0   a               839712 non-null  float64\n",
      " 1   e               839714 non-null  float64\n",
      " 2   i               839714 non-null  float64\n",
      " 3   om              839714 non-null  float64\n",
      " 4   w               839714 non-null  float64\n",
      " 5   q               839714 non-null  float64\n",
      " 6   ad              839708 non-null  float64\n",
      " 7   per_y           839713 non-null  float64\n",
      " 8   data_arc        824240 non-null  float64\n",
      " 9   condition_code  838847 non-null  object \n",
      " 10  n_obs_used      839714 non-null  int64  \n",
      " 11  H               837025 non-null  float64\n",
      " 12  neo             839708 non-null  object \n",
      " 13  pha             823272 non-null  object \n",
      " 14  diameter        137636 non-null  object \n",
      " 15  moid            823272 non-null  float64\n",
      " 16  class           839714 non-null  object \n",
      " 17  n               839712 non-null  float64\n",
      " 18  per             839708 non-null  float64\n",
      " 19  ma              839706 non-null  float64\n",
      "dtypes: float64(14), int64(1), object(5)\n",
      "memory usage: 128.1+ MB\n"
     ]
    }
   ],
   "source": [
    "data = data.drop(columns=[\"albedo\", \"extent\", \"rot_per\", \"GM\", \"BV\", \"UB\", \"IR\", \"spec_B\", \"spec_T\", \"G\", \"name\"])\n",
    "data.info()"
   ]
  },
  {
   "cell_type": "markdown",
   "metadata": {},
   "source": [
    "#### 1.3.3. Transformation und Aufspalten\n",
    "\n",
    "Wie bereits erwähnt, enthält die Zielvariable verschiedene Datentypen. Aus diesem Grund wird der Datentyp anschließend einheitlich in den Typ `float` umgewandelt. "
   ]
  },
  {
   "cell_type": "code",
   "execution_count": 186,
   "metadata": {},
   "outputs": [],
   "source": [
    "data['diameter'] = data['diameter'].astype(float) "
   ]
  },
  {
   "cell_type": "markdown",
   "metadata": {},
   "source": [
    "Für besseres Processing der Daten wird `diameter` ans Ende des Datensatzes gestellt und mit der letzten Spalte `ma` vertauscht."
   ]
  },
  {
   "cell_type": "code",
   "execution_count": 187,
   "metadata": {},
   "outputs": [
    {
     "data": {
      "text/plain": [
       "Index(['a', 'e', 'i', 'om', 'w', 'q', 'ad', 'per_y', 'data_arc',\n",
       "       'condition_code', 'n_obs_used', 'H', 'neo', 'pha', 'ma', 'moid',\n",
       "       'class', 'n', 'per', 'diameter'],\n",
       "      dtype='object')"
      ]
     },
     "execution_count": 187,
     "metadata": {},
     "output_type": "execute_result"
    }
   ],
   "source": [
    "cols = list(data.columns)\n",
    "a, b = cols.index('diameter'), cols.index('ma')\n",
    "cols[b], cols[a] = cols[a], cols[b]\n",
    "data = data[cols]\n",
    "data.columns"
   ]
  },
  {
   "cell_type": "markdown",
   "metadata": {},
   "source": [
    "Da die Zielvariable für das Training und die Evaluierung des Modells beim Supervised Learning stets bekannt sein muss, werden im Weiteren nur die Zeilen des Datensatzes verwendet, bei denen ein bekannter `diameter` vorliegt. Diese werden in `data_useful` gespeichert. \n",
    "\n",
    "Darüberhinaus sollen die Daten, deren `diameter` unbekannt ist, in `data_useless` für die abschließende Vorhersage gespeichert werden. "
   ]
  },
  {
   "cell_type": "code",
   "execution_count": 188,
   "metadata": {},
   "outputs": [],
   "source": [
    "data_useful = data[data.diameter.notna()]\n",
    "data_useless = data[data.diameter.isna()]"
   ]
  },
  {
   "cell_type": "markdown",
   "metadata": {},
   "source": [
    "`data_useful` besteht nun aus 137636 und `data_useless` aus 702078 Einträgen und jeweils 20 Features."
   ]
  },
  {
   "cell_type": "markdown",
   "metadata": {},
   "source": [
    "Nachfolgend wird der neue Datensatz `data_useful` in Trainings- und Testdaten aufgesplittet. Der Trainingsdatensatz soll hierbei aus 80% des Datensatzes bestehen."
   ]
  },
  {
   "cell_type": "code",
   "execution_count": 9,
   "metadata": {},
   "outputs": [],
   "source": [
    "df_train, df_test = train_test_split(data_useful, train_size=.8)"
   ]
  },
  {
   "cell_type": "markdown",
   "metadata": {},
   "source": [
    "### 1.4. Missing Values\n",
    "\n",
    "Anschließend wird überprüft, ob der Trainingsdatensatz fehlende Werte aufweist. Ist dies der Fall, müssen diese ergänzt werden. Zusätzlich dazu sollen kategorische und numerische Features gekennzeichnet werden, wobei die kategorischen ihrerseits in nominelle und ordinale Features unterteilt werden."
   ]
  },
  {
   "cell_type": "code",
   "execution_count": 10,
   "metadata": {},
   "outputs": [],
   "source": [
    "count = df_train.isnull().sum().sort_values(ascending=False)\n",
    "perc = count / len(df_train)\n",
    "missing_data = pd.concat([count+0, perc], axis=1, keys=[\"count\", \"percent\"])\n",
    "missing_data"
   ]
  },
  {
   "cell_type": "markdown",
   "metadata": {},
   "source": [
    "Die Features `H` und `data_arc` enthalten noch fehlende Werte, die im Anschluss durch Imputation hinzugefügt werden."
   ]
  },
  {
   "cell_type": "markdown",
   "metadata": {},
   "source": [
    "#### 1.4.1. Kategorische Features"
   ]
  },
  {
   "cell_type": "code",
   "execution_count": 11,
   "metadata": {},
   "outputs": [],
   "source": [
    "df_train_categorical = df_train.select_dtypes(include=\"object\").astype(\"category\")\n",
    "# df_train_categorical"
   ]
  },
  {
   "cell_type": "markdown",
   "metadata": {},
   "source": [
    "##### 1.4.1.1. Ordinale und nominale Features"
   ]
  },
  {
   "cell_type": "code",
   "execution_count": 12,
   "metadata": {},
   "outputs": [],
   "source": [
    "nominal_columns = [\"class\"]\n",
    "nominal_categories = [list(data[column].unique()) for column in nominal_columns]\n",
    "\n",
    "ordinal_columns = [\"condition_code\", \"neo\", \"pha\"]\n",
    "ordinal_categories = [\n",
    "    ['0', '1', '2', '3', '4', '5', '6', '7', '8', '9', 'D', 'E'],\n",
    "    ['N', 'Y'],\n",
    "    ['N', 'Y']\n",
    "]"
   ]
  },
  {
   "cell_type": "markdown",
   "metadata": {},
   "source": [
    "Das nominelle Feature `class` enthält folgende Kategorien: `'MBA', 'OMB', 'MCA', 'AMO', 'IMB', 'TJN', 'CEN', 'APO', 'ATE', 'AST', 'TNO', 'IEO', 'HYA', 'PAA'`.\n",
    "\n",
    "Die ordinalen Features `condition_code`, `neo` und `pha` haben folgende Ordnungen:\n",
    "- `condition_code`: `'0', '1', '2', '3', '4', '5', '6', '7', '8', '9', 'D', 'E'`\n",
    "- `neo`: `'N', 'Y'`\n",
    "- `pha`: `'N', 'Y'`"
   ]
  },
  {
   "cell_type": "markdown",
   "metadata": {},
   "source": [
    "#### 1.4.2. Numerische Features"
   ]
  },
  {
   "cell_type": "code",
   "execution_count": 13,
   "metadata": {},
   "outputs": [],
   "source": [
    "df_numeric = df_train.select_dtypes(include=\"number\")\n",
    "# df_numeric"
   ]
  },
  {
   "cell_type": "code",
   "execution_count": 14,
   "metadata": {},
   "outputs": [],
   "source": [
    "numeric_selector = make_column_selector(dtype_include=np.number)\n",
    "numeric_columns = numeric_selector(df_train.drop(columns=[\"diameter\"]))\n",
    "# numeric_columns"
   ]
  },
  {
   "cell_type": "markdown",
   "metadata": {},
   "source": [
    "### 1.5. Trainings- und Testdaten \n",
    "\n",
    "Hier erfolgt die Erzeugung von Trainings- und Testdaten aus `df_train` bzw. `df_test` für das Training und die Evaluation der Modelle."
   ]
  },
  {
   "cell_type": "code",
   "execution_count": 15,
   "metadata": {},
   "outputs": [],
   "source": [
    "X_train = df_train.loc[:, nominal_columns + ordinal_columns + numeric_columns]\n",
    "y_train = df_train.loc[:, \"diameter\"]\n",
    "\n",
    "X_test = df_test.loc[:, nominal_columns + ordinal_columns + numeric_columns]\n",
    "y_test = df_test.loc[:, \"diameter\"]"
   ]
  },
  {
   "cell_type": "markdown",
   "metadata": {},
   "source": [
    "### 1.6. Fehlende Werte ersetzen\n",
    "\n",
    "Mit Hilfe des Scikit-Learn `SimpleImputer` Transformers sollen die fehlenden Einträge der Features `H` und `data_arc` komplettiert werden."
   ]
  },
  {
   "cell_type": "code",
   "execution_count": 16,
   "metadata": {},
   "outputs": [],
   "source": [
    "# Instantiierung der Transformers\n",
    "ordinal_imputer = SimpleImputer(strategy=\"most_frequent\") # replace missing using the most frequent value along each column\n",
    "nominal_imputer = SimpleImputer(strategy=\"most_frequent\") # replace missing using the most frequent value along each column\n",
    "numeric_imputer = SimpleImputer(strategy=\"median\")        # replace missing values using the median along each column\n",
    "\n",
    "# Fitting der Transformers mit Trainingsfeatures\n",
    "ordinal_imputer.fit(X_train.loc[:, ordinal_columns])\n",
    "nominal_imputer.fit(X_train.loc[:, nominal_columns])\n",
    "numeric_imputer.fit(X_train.loc[:, numeric_columns])\n",
    "\n",
    "# Transformation der Trainingsdaten\n",
    "X_train.loc[:, ordinal_columns] = ordinal_imputer.transform(X_train.loc[:, ordinal_columns])\n",
    "X_train.loc[:, nominal_columns] = nominal_imputer.transform(X_train.loc[:, nominal_columns])\n",
    "X_train.loc[:, numeric_columns] = numeric_imputer.transform(X_train.loc[:, numeric_columns])"
   ]
  },
  {
   "cell_type": "markdown",
   "metadata": {},
   "source": [
    "Erneute Überprüfung, ob es nach der Transformation immernoch fehlende Werte gibt."
   ]
  },
  {
   "cell_type": "code",
   "execution_count": 17,
   "metadata": {},
   "outputs": [],
   "source": [
    "count = X_train.isnull().sum().sort_values(ascending=False)\n",
    "perc = count / len(X_train)\n",
    "missing_data = pd.concat([count, perc], axis=1, keys=[\"count\", \"percent\"])\n",
    "# missing_data"
   ]
  },
  {
   "cell_type": "markdown",
   "metadata": {},
   "source": [
    "### 1.7. Encoding der nominalen und ordinalen Features\n",
    "\n",
    "In diesem Abschnitt werden die ordinalen und nominalen Features durch Zahlen ersetzt. Hierfür wird der Scikit-Learn `OrdinalEncoder` für die ordinalen und der `OneHotEncoder` für die nominalen Features verwendet."
   ]
  },
  {
   "cell_type": "code",
   "execution_count": 18,
   "metadata": {},
   "outputs": [],
   "source": [
    "# Instantiierung der Transformer\n",
    "ordinal_encoder = OrdinalEncoder(categories=ordinal_categories)\n",
    "nominal_encoder = OneHotEncoder(categories=nominal_categories, sparse=False)\n",
    "\n",
    "# Fitten\n",
    "ordinal_encoder.fit(X_train.loc[:, ordinal_columns])\n",
    "nominal_encoder.fit(X_train.loc[:, nominal_columns])\n",
    "\n",
    "# Transformation der ordinalen und nominalen Trainingsdaten\n",
    "X_train.loc[:, ordinal_columns] = ordinal_encoder.transform(X_train[ordinal_columns])\n",
    "X_train_nominal = nominal_encoder.transform(X_train.loc[:, nominal_columns])\n",
    "\n",
    "# Erzeugen eines neuen DataFrames, in dem die nominalen Features gespeichert werden.\n",
    "X_train_nominal = pd.DataFrame(X_train_nominal, columns=nominal_encoder.get_feature_names(), index=X_train.index)\n",
    "\n",
    "# Ersetzen der nominalen Spalten durch neuen DataFrame\n",
    "X_train= pd.concat(\n",
    "    (\n",
    "        X_train_nominal,\n",
    "        X_train.drop(columns=nominal_columns)\n",
    "    ), \n",
    "    axis=1\n",
    ")"
   ]
  },
  {
   "cell_type": "markdown",
   "metadata": {},
   "source": [
    "Das Encoding hat dazugeführt, dass folgende neue Spalten erzeugt und zu `data_useful` hinzugefügt worden sind: `x0_MBA, x0_AMO, x0_TJN, x0_OMB, x0_IMB, x0_APO, x0_MCA, x0_ATE, x0_CEN, x0_TNO, x0_AST`."
   ]
  },
  {
   "cell_type": "markdown",
   "metadata": {},
   "source": [
    "### 1.8. Skalieren der numerischen Features\n",
    "\n",
    "Für die Skalierung der numerischen Features wird der Scikit-Learn `MinMaxScaler` herangezogen. Dieser sorgt dafür, dass sich die Werte der numerischen Features fortan zwischen 0 und 1 bewegen."
   ]
  },
  {
   "cell_type": "code",
   "execution_count": 19,
   "metadata": {},
   "outputs": [],
   "source": [
    "scaler = MinMaxScaler()\n",
    "scaler.fit(X_train[numeric_columns])\n",
    "\n",
    "X_train.loc[:, numeric_columns] = scaler.transform(X_train[numeric_columns])"
   ]
  },
  {
   "cell_type": "markdown",
   "metadata": {},
   "source": [
    "#### 1.8.1 Erzeugen einer Pipeline \n",
    "\n",
    "Für einen erleichterten Ablauf wird eine Pipeline mit einem `preprocessor` erzeugt, mit dem fehlende nominale sowie numerische Features komplettiert und ordinale Features encoded werden können. "
   ]
  },
  {
   "cell_type": "code",
   "execution_count": 20,
   "metadata": {},
   "outputs": [],
   "source": [
    "ordinal_preprocessing = make_pipeline(ordinal_imputer, ordinal_encoder)\n",
    "nominal_preprocessing = make_pipeline(nominal_imputer, nominal_encoder)\n",
    "numeric_preprocessing = make_pipeline(numeric_imputer, scaler)\n",
    "\n",
    "preprocessor = ColumnTransformer(\n",
    "    [\n",
    "        (\"ordinal_preprocessor\", ordinal_preprocessing, ordinal_columns),\n",
    "        (\"nominal_preprocessor\", nominal_preprocessing, nominal_columns),\n",
    "        (\"numeric_preprocessor\", numeric_preprocessing, numeric_columns),\n",
    "    ],\n",
    "    remainder=\"drop\" # non-specified columns are dropped\n",
    ")"
   ]
  },
  {
   "cell_type": "markdown",
   "metadata": {},
   "source": [
    "##### 1.8.1.1. Fitten des `preprocessor` mit dem Trainingsdatensatz"
   ]
  },
  {
   "cell_type": "code",
   "execution_count": 21,
   "metadata": {},
   "outputs": [],
   "source": [
    "preprocessor.fit(df_train);"
   ]
  },
  {
   "cell_type": "markdown",
   "metadata": {},
   "source": [
    "##### 1.8.1.2. Transformation des Datensatzes"
   ]
  },
  {
   "cell_type": "code",
   "execution_count": 22,
   "metadata": {},
   "outputs": [],
   "source": [
    "X_train_preprocessed = preprocessor.transform(df_train)"
   ]
  },
  {
   "cell_type": "markdown",
   "metadata": {},
   "source": [
    "### 1.9. Visualisierung"
   ]
  },
  {
   "cell_type": "markdown",
   "metadata": {},
   "source": [
    "#### 1.9.1. Histogramm\n",
    "\n",
    "Zur besseren Darstellung im Histogramm wurden die Werte der Zielvariablen mit dem Logarithmus zur Basis 10 transformiert."
   ]
  },
  {
   "cell_type": "code",
   "execution_count": 171,
   "metadata": {},
   "outputs": [
    {
     "data": {
      "text/plain": [
       "<seaborn.axisgrid.FacetGrid at 0x24f05633220>"
      ]
     },
     "execution_count": 171,
     "metadata": {},
     "output_type": "execute_result"
    },
    {
     "data": {
      "image/png": "[encoded data removed]",
      "text/plain": [
       "<Figure size 360x360 with 1 Axes>"
      ]
     },
     "metadata": {
      "needs_background": "light"
     },
     "output_type": "display_data"
    }
   ],
   "source": [
    "sns.displot(np.log10(df_train.diameter))"
   ]
  },
  {
   "cell_type": "markdown",
   "metadata": {},
   "source": [
    "#### 1.9.2. Boxplot\n",
    "\n",
    "Unter Zuhilfenahme eines Boxplots wird deutlich, ob die numerischen Daten korrekt skaliert worden sind."
   ]
  },
  {
   "cell_type": "code",
   "execution_count": 25,
   "metadata": {},
   "outputs": [
    {
     "data": {
      "text/plain": [
       "<AxesSubplot:>"
      ]
     },
     "execution_count": 25,
     "metadata": {},
     "output_type": "execute_result"
    },
    {
     "data": {
      "image/png": "[encoded data removed]",
      "text/plain": [
       "<Figure size 864x576 with 1 Axes>"
      ]
     },
     "metadata": {
      "needs_background": "light"
     },
     "output_type": "display_data"
    }
   ],
   "source": [
    "plt.figure(figsize=(12, 8))\n",
    "X_train[numeric_columns].boxplot(rot=45)"
   ]
  },
  {
   "cell_type": "markdown",
   "metadata": {},
   "source": [
    "#### 1.9.3. Korrelationsmatrix\n",
    "\n",
    "Mit Hilfe einer reduzierten Korrelationsmatrix sollen die 5 Features hervorgestellt werden, die am meisten mit der Zielvariablen `diameter` korrelieren. "
   ]
  },
  {
   "cell_type": "code",
   "execution_count": 189,
   "metadata": {},
   "outputs": [
    {
     "data": {
      "text/plain": [
       "diameter      1.000000\n",
       "H             0.576214\n",
       "data_arc      0.502403\n",
       "n_obs_used    0.394266\n",
       "moid          0.348189\n",
       "Name: diameter, dtype: float64"
      ]
     },
     "execution_count": 189,
     "metadata": {},
     "output_type": "execute_result"
    }
   ],
   "source": [
    "red_corr = df_train.corr()\n",
    "k = 5\n",
    "best_features = red_corr[\"diameter\"].abs().nlargest(k)\n",
    "best_features"
   ]
  },
  {
   "cell_type": "code",
   "execution_count": 190,
   "metadata": {},
   "outputs": [
    {
     "data": {
      "image/png": "[encoded data removed]",
      "text/plain": [
       "<Figure size 864x576 with 2 Axes>"
      ]
     },
     "metadata": {
      "needs_background": "light"
     },
     "output_type": "display_data"
    }
   ],
   "source": [
    "red_corr_best = df_train[best_features.index].corr()\n",
    "\n",
    "fig = plt.figure(figsize=(12, 8))\n",
    "sns.heatmap(red_corr_best, square=True);"
   ]
  },
  {
   "cell_type": "markdown",
   "metadata": {},
   "source": [
    "Aus der reduzierten Korrelationsmatrix geht hervor, dass die Features `H` und `data_arc` besonders stark mit der Größe von Asteroiden korrelieren. Bei `H` handelt es sich um die \"Absolute Helligkeit\" (Absolute Magnitude Parameter), also die tatsächliche Leuchtkraft eines Asteroiden. `data_arc` beschreibt die Zeitspanne zwischen seiner frühesten und seiner letzten Beobachtung, angegeben in Tagen."
   ]
  },
  {
   "cell_type": "code",
   "execution_count": 191,
   "metadata": {},
   "outputs": [
    {
     "data": {
      "image/png": "[encoded data removed]",
      "text/plain": [
       "<Figure size 864x576 with 2 Axes>"
      ]
     },
     "metadata": {
      "needs_background": "light"
     },
     "output_type": "display_data"
    }
   ],
   "source": [
    "plt.figure(figsize=(12,8))\n",
    "plt.subplot(1,2,1)\n",
    "plt.scatter(df_train.diameter, df_train.H)\n",
    "plt.ylabel(\"Absolute Magnitude [mag]\")\n",
    "plt.xlabel(\"Diameter [km]\")\n",
    "\n",
    "plt.subplot(1,2,2)\n",
    "plt.scatter(df_train.diameter, df_train.data_arc)\n",
    "plt.ylabel(\"data_arc [days]\")\n",
    "plt.xlabel(\"Diameter [km]\")\n",
    "plt.tight_layout()"
   ]
  },
  {
   "cell_type": "markdown",
   "metadata": {},
   "source": [
    "## 2. Model 1 - `RidgeRegression`\n",
    "\n",
    "Als erstes Modell soll hier das Modell der `RidgeRegression` angewandt werden. Zur Validierung des Regressionskoeffizienten wird der `r2_score` herangezogen, da er einen Hinweis auf die Anpassungsgüte und damit ein Maß dafür, wie gut ungesehene Stichproben wahrscheinlich durch das Modell vorhergesagt werden können, liefert."
   ]
  },
  {
   "cell_type": "markdown",
   "metadata": {},
   "source": [
    "### 2.1. Importe"
   ]
  },
  {
   "cell_type": "code",
   "execution_count": 29,
   "metadata": {},
   "outputs": [],
   "source": [
    "from sklearn.linear_model import Ridge, LogisticRegression\n",
    "from sklearn.preprocessing import PolynomialFeatures\n",
    "from sklearn.pipeline import make_pipeline\n",
    "from sklearn.metrics import r2_score"
   ]
  },
  {
   "cell_type": "markdown",
   "metadata": {},
   "source": [
    "### 2.2. Modell erzeugen\n",
    "\n",
    "Das Modell wird innerhalb einer Pipeline erzeugt. Der Grad der Regressionskurve soll sich auf 2 belaufen und die Stärke der Regularisierung wird auf der `default` Einstellung belassen. "
   ]
  },
  {
   "cell_type": "code",
   "execution_count": 30,
   "metadata": {},
   "outputs": [],
   "source": [
    "ridge_reg = make_pipeline(\n",
    "    PolynomialFeatures(degree=2, include_bias=False), \n",
    "    Ridge(alpha=1.0, normalize=True)\n",
    ")"
   ]
  },
  {
   "cell_type": "markdown",
   "metadata": {},
   "source": [
    "#### 2.2.1. Modell fitten\n",
    "\n",
    "Für eine bessere Performance wird die Zielvariable logarithmiert."
   ]
  },
  {
   "cell_type": "code",
   "execution_count": 31,
   "metadata": {},
   "outputs": [
    {
     "data": {
      "text/plain": [
       "Pipeline(steps=[('polynomialfeatures', PolynomialFeatures(include_bias=False)),\n",
       "                ('ridge', Ridge(normalize=True))])"
      ]
     },
     "execution_count": 31,
     "metadata": {},
     "output_type": "execute_result"
    }
   ],
   "source": [
    "ridge_reg.fit(X_train, np.log(y_train))"
   ]
  },
  {
   "cell_type": "markdown",
   "metadata": {},
   "source": [
    "#### 2.2.2. Performance"
   ]
  },
  {
   "cell_type": "code",
   "execution_count": 32,
   "metadata": {},
   "outputs": [
    {
     "data": {
      "text/plain": [
       "0.7859724647151538"
      ]
     },
     "execution_count": 32,
     "metadata": {},
     "output_type": "execute_result"
    }
   ],
   "source": [
    "ridge_reg.score(X_train, np.log(y_train))"
   ]
  },
  {
   "cell_type": "markdown",
   "metadata": {},
   "source": [
    "### 2.3. Pipeline\n",
    "\n",
    "Erneute Erzeugung einer Pipeline aus `preprocessor` und `ridge_reg`, um die unvollstänstigen Daten zu kommplettieren und das Modell anschließend zu fitten. "
   ]
  },
  {
   "cell_type": "code",
   "execution_count": 33,
   "metadata": {},
   "outputs": [],
   "source": [
    "ridge_and_preprocessor = make_pipeline(preprocessor, ridge_reg)\n",
    "\n",
    "ridge_and_preprocessor.fit(df_train.drop(columns=[\"diameter\"]), np.log(df_train[\"diameter\"])); "
   ]
  },
  {
   "cell_type": "markdown",
   "metadata": {},
   "source": [
    "### 2.4. Evaluierung mit Hilfe der Testdaten\n",
    "\n",
    "Scoring: `r2_score`."
   ]
  },
  {
   "cell_type": "code",
   "execution_count": 34,
   "metadata": {},
   "outputs": [
    {
     "data": {
      "text/plain": [
       "0.7879897809173195"
      ]
     },
     "execution_count": 34,
     "metadata": {},
     "output_type": "execute_result"
    }
   ],
   "source": [
    "y_pred_test = ridge_and_preprocessor.predict(df_test.drop(columns=[\"diameter\"]))\n",
    "\n",
    "ridge_and_preprocessor.score(df_test.drop(columns=[\"diameter\"]), np.log(df_test[\"diameter\"]))"
   ]
  },
  {
   "cell_type": "markdown",
   "metadata": {},
   "source": [
    "## 3. Modell 2 - `RandomForest`\n",
    "\n",
    "Da der Regressionskoeffizient beim vorherigen Modell verbesserungswürdig war, wird anschließend ein Modell des Scikit-Learn `RandomForest` zur weiteren Verarbeitung erstellt und evaluiert.\n",
    "\n",
    "Die Anzahl der Bäume wird auf 500 gesetzt und `max_depth=4`. Das Modell wird zudem auf Over- bzw. Underfitting hin untersucht."
   ]
  },
  {
   "cell_type": "markdown",
   "metadata": {},
   "source": [
    "### 3.1. Importe"
   ]
  },
  {
   "cell_type": "code",
   "execution_count": 192,
   "metadata": {},
   "outputs": [],
   "source": [
    "from sklearn.ensemble import RandomForestRegressor\n",
    "from sklearn.model_selection import RandomizedSearchCV"
   ]
  },
  {
   "cell_type": "markdown",
   "metadata": {},
   "source": [
    "### 3.2. Modell erzeugen"
   ]
  },
  {
   "cell_type": "code",
   "execution_count": 193,
   "metadata": {},
   "outputs": [],
   "source": [
    "random_forest = RandomForestRegressor(n_estimators=500, max_depth=4) "
   ]
  },
  {
   "cell_type": "markdown",
   "metadata": {},
   "source": [
    "#### 3.2.1. Modell fitten\n",
    "\n",
    "Da das Logarithmieren der Zielvariablen zum Overfitting geführt hat, wird dieser Schritt für dieses Modell weggelassen."
   ]
  },
  {
   "cell_type": "code",
   "execution_count": 194,
   "metadata": {},
   "outputs": [
    {
     "data": {
      "text/plain": [
       "RandomForestRegressor(max_depth=4, n_estimators=500)"
      ]
     },
     "execution_count": 194,
     "metadata": {},
     "output_type": "execute_result"
    }
   ],
   "source": [
    "random_forest.fit(X_train, y_train)"
   ]
  },
  {
   "cell_type": "markdown",
   "metadata": {},
   "source": [
    "#### 3.2.2. Performance\n",
    "\n",
    "Mit `r2_score`."
   ]
  },
  {
   "cell_type": "code",
   "execution_count": 195,
   "metadata": {},
   "outputs": [
    {
     "data": {
      "text/plain": [
       "0.8923353905574765"
      ]
     },
     "execution_count": 195,
     "metadata": {},
     "output_type": "execute_result"
    }
   ],
   "source": [
    "random_forest.score(X_train, y_train) "
   ]
  },
  {
   "cell_type": "markdown",
   "metadata": {},
   "source": [
    "### 3.3. Pipeline \n",
    "\n",
    "Erzeugen einer Pipeline aus `preprocessor` und `random_forest`, um das Modell mit unverarbeiteten Daten evaulieren zu können."
   ]
  },
  {
   "cell_type": "code",
   "execution_count": 196,
   "metadata": {},
   "outputs": [],
   "source": [
    "random_forest_and_preprocessor = make_pipeline(preprocessor, random_forest)"
   ]
  },
  {
   "cell_type": "markdown",
   "metadata": {},
   "source": [
    "#### 3.3.1. Fitting des Modells und des Processors"
   ]
  },
  {
   "cell_type": "code",
   "execution_count": 197,
   "metadata": {},
   "outputs": [],
   "source": [
    "random_forest_and_preprocessor.fit(df_train.drop(columns=[\"diameter\"]), df_train[\"diameter\"]); "
   ]
  },
  {
   "cell_type": "markdown",
   "metadata": {},
   "source": [
    "### 3.4. Evaluation auf den Testdaten"
   ]
  },
  {
   "cell_type": "code",
   "execution_count": 253,
   "metadata": {},
   "outputs": [],
   "source": [
    "y_pred_test = random_forest_and_preprocessor.predict(df_test.drop(columns=[\"diameter\"]))"
   ]
  },
  {
   "cell_type": "markdown",
   "metadata": {},
   "source": [
    "#### 3.4.1. Performance\n",
    "\n",
    "Mit `r2_score`."
   ]
  },
  {
   "cell_type": "code",
   "execution_count": 254,
   "metadata": {},
   "outputs": [
    {
     "data": {
      "text/plain": [
       "0.850484010752597"
      ]
     },
     "execution_count": 254,
     "metadata": {},
     "output_type": "execute_result"
    }
   ],
   "source": [
    "random_forest_and_preprocessor.score(df_test.drop(columns=[\"diameter\"]), df_test[\"diameter\"])"
   ]
  },
  {
   "cell_type": "markdown",
   "metadata": {},
   "source": [
    "Aufgrund der Tatsache, dass der `r2_score` des Testdatensatzes nicht sonderlich weit unter dem des Trainingsdatensatzes liegt, ist ein Overfitting auszuschließen."
   ]
  },
  {
   "cell_type": "markdown",
   "metadata": {},
   "source": [
    "## 4. Randomisierte Hyperparametersuche\n",
    "\n",
    "Für die Suche der besten Hyperparameter `max_depth` und `n_estimators` wird eine randomisierte Suche mit Hilfe der `RandomizedSearchCV` Klasse aus Scikit-Learn durchgeführt.\n",
    "\n",
    "- 3 Kreuzvalidierungsschritte\n",
    "- 100 Zufallssettings"
   ]
  },
  {
   "cell_type": "code",
   "execution_count": 211,
   "metadata": {},
   "outputs": [],
   "source": [
    "n_estimators = np.arange(500, 800, 100) # Anzahl Bäume\n",
    "max_depth = np.arange(3, 10, 1)# Maximale Tiefe\n",
    "\n",
    "# Random Grid\n",
    "random_grid = {\n",
    "    'n_estimators': n_estimators,\n",
    "    'max_depth': max_depth\n",
    "}"
   ]
  },
  {
   "cell_type": "code",
   "execution_count": 212,
   "metadata": {},
   "outputs": [],
   "source": [
    "random_forest = RandomForestRegressor()\n",
    "random_forest_HP = RandomizedSearchCV(\n",
    "    estimator=random_forest, \n",
    "    param_distributions=random_grid, \n",
    "    n_iter=20, \n",
    "    cv=3, \n",
    "    scoring=\"r2\",\n",
    "    n_jobs=-1\n",
    ")"
   ]
  },
  {
   "cell_type": "markdown",
   "metadata": {},
   "source": [
    "# !!! DON'T RUN CELL BELOW !!!"
   ]
  },
  {
   "cell_type": "code",
   "execution_count": 213,
   "metadata": {},
   "outputs": [
    {
     "data": {
      "text/plain": [
       "RandomizedSearchCV(cv=3, estimator=RandomForestRegressor(), n_iter=20,\n",
       "                   n_jobs=-1,\n",
       "                   param_distributions={'max_depth': array([3, 4, 5, 6, 7, 8, 9]),\n",
       "                                        'n_estimators': array([500, 600, 700])},\n",
       "                   scoring='r2')"
      ]
     },
     "execution_count": 213,
     "metadata": {},
     "output_type": "execute_result"
    }
   ],
   "source": [
    "# Dauert Ewigkeiten!!\n",
    "random_forest_HP.fit(X_train, y_train)"
   ]
  },
  {
   "cell_type": "markdown",
   "metadata": {},
   "source": [
    "# !!! DON'T RUN CELL ABOVE !!!"
   ]
  },
  {
   "cell_type": "markdown",
   "metadata": {},
   "source": [
    "### 4.1. Beste Parameter"
   ]
  },
  {
   "cell_type": "code",
   "execution_count": 218,
   "metadata": {},
   "outputs": [
    {
     "data": {
      "text/plain": [
       "{'n_estimators': 700, 'max_depth': 8}"
      ]
     },
     "execution_count": 218,
     "metadata": {},
     "output_type": "execute_result"
    }
   ],
   "source": [
    "random_forest_HP.best_params_"
   ]
  },
  {
   "cell_type": "markdown",
   "metadata": {},
   "source": [
    "#### 4.1.1. Performance\n",
    "\n",
    "Erneut mit dem `r2_score`."
   ]
  },
  {
   "cell_type": "code",
   "execution_count": 219,
   "metadata": {},
   "outputs": [
    {
     "data": {
      "text/plain": [
       "0.8606107276372313"
      ]
     },
     "execution_count": 219,
     "metadata": {},
     "output_type": "execute_result"
    }
   ],
   "source": [
    "random_forest_HP.best_score_"
   ]
  },
  {
   "cell_type": "markdown",
   "metadata": {},
   "source": [
    "Die Hyperparametersuche hat ergeben, dass mit `n_estimators=500` und `max_depth=9` der beste Regressionskoeffizient mit `0.84` erreicht wird."
   ]
  },
  {
   "cell_type": "markdown",
   "metadata": {},
   "source": [
    "#### 4.1.2. Bestes Modell"
   ]
  },
  {
   "cell_type": "code",
   "execution_count": 220,
   "metadata": {},
   "outputs": [
    {
     "data": {
      "text/plain": [
       "RandomForestRegressor(max_depth=8, n_estimators=700)"
      ]
     },
     "execution_count": 220,
     "metadata": {},
     "output_type": "execute_result"
    }
   ],
   "source": [
    "random_forest_HP.best_estimator_"
   ]
  },
  {
   "cell_type": "markdown",
   "metadata": {},
   "source": [
    "## 5. Kreuzvalidierung\n",
    "\n",
    "Um die Generalisierung von `random_forest_and_preprocessor` noch besser abzuschätzen, wird eine Kreuzvalidierung durchgeführt. "
   ]
  },
  {
   "cell_type": "code",
   "execution_count": 221,
   "metadata": {},
   "outputs": [],
   "source": [
    "cv_scores = cross_val_score(\n",
    "    random_forest_and_preprocessor, \n",
    "    df_train.drop(columns=[\"diameter\"]),\n",
    "    df_train[\"diameter\"],\n",
    "    cv=15,\n",
    ")"
   ]
  },
  {
   "cell_type": "markdown",
   "metadata": {},
   "source": [
    "### 5.1. Generalisierung durch KV\n",
    "\n",
    "Die Generalisierung des Modells errechnet sich mittels `np.mean(cv_scores)` und beträgt `0.85`."
   ]
  },
  {
   "cell_type": "code",
   "execution_count": 223,
   "metadata": {},
   "outputs": [
    {
     "data": {
      "text/plain": [
       "0.8558862440231353"
      ]
     },
     "execution_count": 223,
     "metadata": {},
     "output_type": "execute_result"
    }
   ],
   "source": [
    "np.mean(cv_scores)"
   ]
  },
  {
   "cell_type": "markdown",
   "metadata": {},
   "source": [
    "## 6. Vorhersage auf unbekannten Daten\n",
    "\n",
    "In diesem Abschnitt wird das Modell auf den `data_useless`Datensatz angewandt, um eine Vorhersage über den Durchmesser treffen zu können. Eine Validierung wird nicht möglich sein, da keine `diameter` bekannt sind."
   ]
  },
  {
   "cell_type": "code",
   "execution_count": 224,
   "metadata": {},
   "outputs": [],
   "source": [
    "y_predicted = random_forest_and_preprocessor.predict(data_useless.drop(columns=[\"diameter\"]))"
   ]
  },
  {
   "cell_type": "code",
   "execution_count": 244,
   "metadata": {},
   "outputs": [
    {
     "data": {
      "text/plain": [
       "array([13.01508322, 15.97446252,  3.08267893, ...,  3.04625934,\n",
       "        3.04625934,  3.04625934])"
      ]
     },
     "execution_count": 244,
     "metadata": {},
     "output_type": "execute_result"
    }
   ],
   "source": [
    "y_predicted"
   ]
  },
  {
   "cell_type": "markdown",
   "metadata": {},
   "source": [
    "### 6.1. Visualisierung"
   ]
  },
  {
   "cell_type": "code",
   "execution_count": 252,
   "metadata": {},
   "outputs": [
    {
     "name": "stderr",
     "output_type": "stream",
     "text": [
      "<ipython-input-252-a6657a27b82c>:16: RuntimeWarning: invalid value encountered in log10\n",
      "  plt.hist(np.log10(y_pre), bins=100);\n"
     ]
    },
    {
     "data": {
      "image/png": "[encoded data removed]",
      "text/plain": [
       "<Figure size 1152x432 with 3 Axes>"
      ]
     },
     "metadata": {
      "needs_background": "light"
     },
     "output_type": "display_data"
    }
   ],
   "source": [
    "plt.figure(figsize=(8,6))\n",
    "plt.subplot(1,2,1)\n",
    "plt.hist(np.log10(df_train.diameter), bins=100);\n",
    "plt.xlabel(\"diameter [log10, km]\")\n",
    "plt.ylabel(\"Count\")\n",
    "plt.title(\"True Diameters\")\n",
    "\n",
    "plt.subplot(1,2,2)\n",
    "plt.hist(np.log10(y_predicted), bins=100);\n",
    "plt.xlabel(\"diameter [log10, km]\")\n",
    "plt.ylabel(\"Count\")\n",
    "plt.title(\"Predicted Diameters\")\n",
    "plt.tight_layout()"
   ]
  },
  {
   "cell_type": "code",
   "execution_count": 227,
   "metadata": {},
   "outputs": [
    {
     "data": {
      "text/plain": [
       "712.6091385675822"
      ]
     },
     "execution_count": 227,
     "metadata": {},
     "output_type": "execute_result"
    }
   ],
   "source": [
    "y_predicted.max()"
   ]
  },
  {
   "cell_type": "code",
   "execution_count": 228,
   "metadata": {},
   "outputs": [
    {
     "data": {
      "text/plain": [
       "(0.0025, 3.0462593396272197)"
      ]
     },
     "execution_count": 228,
     "metadata": {},
     "output_type": "execute_result"
    }
   ],
   "source": [
    "data_useful.diameter.min(), y_predicted.min()"
   ]
  },
  {
   "cell_type": "code",
   "execution_count": 229,
   "metadata": {},
   "outputs": [
    {
     "data": {
      "text/plain": [
       "(939.4, 712.6091385675822)"
      ]
     },
     "execution_count": 229,
     "metadata": {},
     "output_type": "execute_result"
    }
   ],
   "source": [
    "data_useful.diameter.max(), y_predicted.max()"
   ]
  },
  {
   "cell_type": "code",
   "execution_count": 230,
   "metadata": {},
   "outputs": [
    {
     "data": {
      "text/plain": [
       "(5.4832283014619305, 4.460467724247814)"
      ]
     },
     "execution_count": 230,
     "metadata": {},
     "output_type": "execute_result"
    }
   ],
   "source": [
    "data_useful.diameter.mean(), y_predicted.mean()"
   ]
  },
  {
   "cell_type": "code",
   "execution_count": 231,
   "metadata": {},
   "outputs": [
    {
     "data": {
      "text/plain": [
       "(9.385734505530076, 15.370834948438837)"
      ]
     },
     "execution_count": 231,
     "metadata": {},
     "output_type": "execute_result"
    }
   ],
   "source": [
    "data_useful.diameter.std(), y_predicted.std()"
   ]
  },
  {
   "cell_type": "code",
   "execution_count": 234,
   "metadata": {},
   "outputs": [],
   "source": [
    "data_useless.diameter = y_predicted"
   ]
  },
  {
   "cell_type": "code",
   "execution_count": 130,
   "metadata": {},
   "outputs": [
    {
     "data": {
      "text/plain": [
       "diameter    1.000000\n",
       "moid        0.880093\n",
       "q           0.878874\n",
       "H           0.386948\n",
       "ad          0.293311\n",
       "Name: diameter, dtype: float64"
      ]
     },
     "execution_count": 130,
     "metadata": {},
     "output_type": "execute_result"
    }
   ],
   "source": [
    "red_corr = data_useless.corr()\n",
    "k = 5\n",
    "best_features = red_corr[\"diameter\"].abs().nlargest(k)\n",
    "best_features"
   ]
  }
 ],
 "metadata": {
  "kernelspec": {
   "display_name": "Python 3",
   "language": "python",
   "name": "python3"
  },
  "language_info": {
   "codemirror_mode": {
    "name": "ipython",
    "version": 3
   },
   "file_extension": ".py",
   "mimetype": "text/x-python",
   "name": "python",
   "nbconvert_exporter": "python",
   "pygments_lexer": "ipython3",
   "version": "3.8.5"
  }
 },
 "nbformat": 4,
 "nbformat_minor": 4
}
